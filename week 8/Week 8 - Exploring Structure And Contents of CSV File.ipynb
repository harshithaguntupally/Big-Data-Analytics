{
 "cells": [
  {
   "cell_type": "code",
   "execution_count": 1,
   "id": "4ae54f57-1549-4404-891f-507be94bbbed",
   "metadata": {},
   "outputs": [
    {
     "data": {
      "text/html": [
       "\n",
       "        <div>\n",
       "            <p><b>SparkContext</b></p>\n",
       "\n",
       "            <p><a href=\"http://bunny:4042\">Spark UI</a></p>\n",
       "\n",
       "            <dl>\n",
       "              <dt>Version</dt>\n",
       "                <dd><code>v4.0.1</code></dd>\n",
       "              <dt>Master</dt>\n",
       "                <dd><code>local[*]</code></dd>\n",
       "              <dt>AppName</dt>\n",
       "                <dd><code>PySparkShell</code></dd>\n",
       "            </dl>\n",
       "        </div>\n",
       "        "
      ],
      "text/plain": [
       "<SparkContext master=local[*] appName=PySparkShell>"
      ]
     },
     "execution_count": 1,
     "metadata": {},
     "output_type": "execute_result"
    }
   ],
   "source": [
    "sc"
   ]
  },
  {
   "cell_type": "code",
   "execution_count": 2,
   "id": "0cab3bcf-e41e-4b90-a7f8-6e6be44a63ee",
   "metadata": {},
   "outputs": [],
   "source": [
    "from pyspark.sql import SparkSession\n",
    "from pyspark.sql.functions import col, avg, round, max\n",
    "spark = SparkSession.builder.appName(\"StudentsDataFrameExample\").getOrCreate()"
   ]
  },
  {
   "cell_type": "code",
   "execution_count": 3,
   "id": "b68e64df-7300-4025-a65e-7d14293d79b1",
   "metadata": {},
   "outputs": [],
   "source": [
    "df = spark.read.csv(\"students.csv\", header=True, inferSchema=True)"
   ]
  },
  {
   "cell_type": "code",
   "execution_count": 4,
   "id": "a78f310e-ffab-469f-9711-f243d9d8f9d3",
   "metadata": {},
   "outputs": [
    {
     "name": "stdout",
     "output_type": "stream",
     "text": [
      "=== First 10 rows ===\n",
      "+---+-------+---+------+----+-------+-------+\n",
      "| id|   name|age|gender|math|science|english|\n",
      "+---+-------+---+------+----+-------+-------+\n",
      "|  1|  Alice| 20|     F|  66|     92|     44|\n",
      "|  2|    Bob| 20|     M|  82|     52|     77|\n",
      "|  3|Charlie| 22|     F|  43|     57|     76|\n",
      "|  4|  David| 19|     M|  95|     69|     46|\n",
      "|  5|    Eva| 19|     F|  62|     44|     96|\n",
      "|  6|  Frank| 22|     F|  70|     78|     94|\n",
      "|  7|  Grace| 24|     F|  67|     66|     93|\n",
      "|  8|  Henry| 21|     F|  53|     82|     60|\n",
      "|  9|    Ivy| 19|     M|  64|     52|     46|\n",
      "| 10|   Jack| 19|     F|  44|     59|     60|\n",
      "+---+-------+---+------+----+-------+-------+\n",
      "only showing top 10 rows\n"
     ]
    }
   ],
   "source": [
    "print(\"=== First 10 rows ===\")\n",
    "df.show(10)"
   ]
  },
  {
   "cell_type": "code",
   "execution_count": 5,
   "id": "0458089d-bed4-4c91-aca9-b4606387e2e3",
   "metadata": {},
   "outputs": [
    {
     "name": "stdout",
     "output_type": "stream",
     "text": [
      "=== Schema ===\n",
      "root\n",
      " |-- id: integer (nullable = true)\n",
      " |-- name: string (nullable = true)\n",
      " |-- age: integer (nullable = true)\n",
      " |-- gender: string (nullable = true)\n",
      " |-- math: integer (nullable = true)\n",
      " |-- science: integer (nullable = true)\n",
      " |-- english: integer (nullable = true)\n",
      "\n"
     ]
    }
   ],
   "source": [
    "print(\"=== Schema ===\")\n",
    "df.printSchema()"
   ]
  },
  {
   "cell_type": "code",
   "execution_count": 6,
   "id": "30578789-f53d-4513-9119-6dd4f4b37a82",
   "metadata": {},
   "outputs": [
    {
     "name": "stdout",
     "output_type": "stream",
     "text": [
      "=== Datatypes ===\n",
      "[('id', 'int'), ('name', 'string'), ('age', 'int'), ('gender', 'string'), ('math', 'int'), ('science', 'int'), ('english', 'int')]\n"
     ]
    }
   ],
   "source": [
    "print(\"=== Datatypes ===\")\n",
    "print(df.dtypes)"
   ]
  },
  {
   "cell_type": "code",
   "execution_count": 7,
   "id": "5eab93fa-1c64-431c-baf1-20cd21775aaf",
   "metadata": {},
   "outputs": [
    {
     "name": "stdout",
     "output_type": "stream",
     "text": [
      "=== Summary statistics ===\n",
      "+-------+------------------+-----+------------------+------+------------------+------------------+-----------------+\n",
      "|summary|                id| name|               age|gender|              math|           science|          english|\n",
      "+-------+------------------+-----+------------------+------+------------------+------------------+-----------------+\n",
      "|  count|                50|   50|                50|    50|                50|                50|               50|\n",
      "|   mean|              25.5| NULL|              21.5|  NULL|             68.94|             70.16|            69.36|\n",
      "| stddev|14.577379737113251| NULL|2.2337851101588404|  NULL|17.609610085034216|14.636214521186957|18.74507826560544|\n",
      "|    min|                 1|Aaron|                18|     F|                40|                44|               42|\n",
      "|    max|                50| Zoey|                25|     M|               100|                99|              100|\n",
      "+-------+------------------+-----+------------------+------+------------------+------------------+-----------------+\n",
      "\n"
     ]
    }
   ],
   "source": [
    "print(\"=== Summary statistics ===\")\n",
    "df.describe().show()"
   ]
  },
  {
   "cell_type": "code",
   "execution_count": 8,
   "id": "3307cb63-40c3-46b2-bd76-32a5960ee8a3",
   "metadata": {},
   "outputs": [
    {
     "name": "stdout",
     "output_type": "stream",
     "text": [
      "Total rows: 50\n",
      "Columns: ['id', 'name', 'age', 'gender', 'math', 'science', 'english']\n"
     ]
    }
   ],
   "source": [
    "print(\"Total rows:\", df.count())\n",
    "print(\"Columns:\", df.columns)"
   ]
  },
  {
   "cell_type": "code",
   "execution_count": 9,
   "id": "31c314d4-493f-436f-afa9-701d5917e810",
   "metadata": {},
   "outputs": [
    {
     "name": "stdout",
     "output_type": "stream",
     "text": [
      "\n",
      "=== Select name, age, and math columns ===\n",
      "+-------+---+----+\n",
      "|   name|age|math|\n",
      "+-------+---+----+\n",
      "|  Alice| 20|  66|\n",
      "|    Bob| 20|  82|\n",
      "|Charlie| 22|  43|\n",
      "|  David| 19|  95|\n",
      "|    Eva| 19|  62|\n",
      "|  Frank| 22|  70|\n",
      "|  Grace| 24|  67|\n",
      "|  Henry| 21|  53|\n",
      "|    Ivy| 19|  64|\n",
      "|   Jack| 19|  44|\n",
      "+-------+---+----+\n",
      "only showing top 10 rows\n"
     ]
    }
   ],
   "source": [
    "print(\"\\n=== Select name, age, and math columns ===\")\n",
    "df.select(\"name\", \"age\", \"math\").show(10)"
   ]
  },
  {
   "cell_type": "code",
   "execution_count": 10,
   "id": "024e7c92-fc3e-4b0c-b541-10c7181689de",
   "metadata": {},
   "outputs": [
    {
     "name": "stdout",
     "output_type": "stream",
     "text": [
      "\n",
      "=== Students with age >= 21 and math >= 70 ===\n",
      "+---+-------+---+------+----+-------+-------+\n",
      "| id|   name|age|gender|math|science|english|\n",
      "+---+-------+---+------+----+-------+-------+\n",
      "|  6|  Frank| 22|     F|  70|     78|     94|\n",
      "| 11|  Kathy| 25|     M|  85|     71|     89|\n",
      "| 12|    Leo| 24|     M|  97|     84|     83|\n",
      "| 14| Nathan| 23|     F|  71|     66|     60|\n",
      "| 22| Victor| 22|     M|  96|     75|     56|\n",
      "| 25|   Yara| 21|     F| 100|     62|     54|\n",
      "| 27|  Aaron| 25|     F|  81|     99|     44|\n",
      "| 30|  Diana| 21|     M|  78|     89|     45|\n",
      "| 35|    Ian| 21|     F|  72|     75|     70|\n",
      "| 36|Jasmine| 21|     F|  90|     58|     71|\n",
      "+---+-------+---+------+----+-------+-------+\n",
      "only showing top 10 rows\n"
     ]
    }
   ],
   "source": [
    "print(\"\\n=== Students with age >= 21 and math >= 70 ===\")\n",
    "df.filter((col(\"age\") >= 21) & (col(\"math\") >= 70)).show(10)"
   ]
  },
  {
   "cell_type": "code",
   "execution_count": 11,
   "id": "98a7afc2-6f56-4cdb-af74-691bb529320f",
   "metadata": {},
   "outputs": [
    {
     "name": "stdout",
     "output_type": "stream",
     "text": [
      "\n",
      "=== Dataset with new column 'average' ===\n",
      "+---+-------+---+------+----+-------+-------+-------+\n",
      "| id|   name|age|gender|math|science|english|average|\n",
      "+---+-------+---+------+----+-------+-------+-------+\n",
      "|  1|  Alice| 20|     F|  66|     92|     44|  67.33|\n",
      "|  2|    Bob| 20|     M|  82|     52|     77|  70.33|\n",
      "|  3|Charlie| 22|     F|  43|     57|     76|  58.67|\n",
      "|  4|  David| 19|     M|  95|     69|     46|   70.0|\n",
      "|  5|    Eva| 19|     F|  62|     44|     96|  67.33|\n",
      "|  6|  Frank| 22|     F|  70|     78|     94|  80.67|\n",
      "|  7|  Grace| 24|     F|  67|     66|     93|  75.33|\n",
      "|  8|  Henry| 21|     F|  53|     82|     60|   65.0|\n",
      "|  9|    Ivy| 19|     M|  64|     52|     46|   54.0|\n",
      "| 10|   Jack| 19|     F|  44|     59|     60|  54.33|\n",
      "+---+-------+---+------+----+-------+-------+-------+\n",
      "only showing top 10 rows\n"
     ]
    }
   ],
   "source": [
    "df_with_avg = df.withColumn(\"average\", round((col(\"math\") + col(\"science\") + col(\"english\")) / 3, 2))\n",
    "print(\"\\n=== Dataset with new column 'average' ===\")\n",
    "df_with_avg.show(10)"
   ]
  },
  {
   "cell_type": "code",
   "execution_count": null,
   "id": "976dd7ab-599c-49a5-a9a1-ac03865b8f7f",
   "metadata": {},
   "outputs": [],
   "source": []
  }
 ],
 "metadata": {
  "kernelspec": {
   "display_name": "Python 3 (ipykernel)",
   "language": "python",
   "name": "python3"
  },
  "language_info": {
   "codemirror_mode": {
    "name": "ipython",
    "version": 3
   },
   "file_extension": ".py",
   "mimetype": "text/x-python",
   "name": "python",
   "nbconvert_exporter": "python",
   "pygments_lexer": "ipython3",
   "version": "3.11.9"
  }
 },
 "nbformat": 4,
 "nbformat_minor": 5
}
