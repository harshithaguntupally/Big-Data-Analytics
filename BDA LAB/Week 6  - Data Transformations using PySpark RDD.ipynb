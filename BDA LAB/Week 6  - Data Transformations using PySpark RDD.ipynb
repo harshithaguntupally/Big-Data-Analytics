{
 "cells": [
  {
   "cell_type": "code",
   "execution_count": 1,
   "id": "0347f3c9-88fa-469d-aa1e-27bc6b7e17cd",
   "metadata": {},
   "outputs": [
    {
     "data": {
      "text/html": [
       "\n",
       "        <div>\n",
       "            <p><b>SparkContext</b></p>\n",
       "\n",
       "            <p><a href=\"http://bunny:4040\">Spark UI</a></p>\n",
       "\n",
       "            <dl>\n",
       "              <dt>Version</dt>\n",
       "                <dd><code>v4.0.1</code></dd>\n",
       "              <dt>Master</dt>\n",
       "                <dd><code>local[*]</code></dd>\n",
       "              <dt>AppName</dt>\n",
       "                <dd><code>PySparkShell</code></dd>\n",
       "            </dl>\n",
       "        </div>\n",
       "        "
      ],
      "text/plain": [
       "<SparkContext master=local[*] appName=PySparkShell>"
      ]
     },
     "execution_count": 1,
     "metadata": {},
     "output_type": "execute_result"
    }
   ],
   "source": [
    "sc"
   ]
  },
  {
   "cell_type": "code",
   "execution_count": 2,
   "id": "711a0c2d-da46-4a48-ae7d-535e1dc6a826",
   "metadata": {},
   "outputs": [],
   "source": [
    "import random"
   ]
  },
  {
   "cell_type": "code",
   "execution_count": 3,
   "id": "7091c114-aedb-423a-8ece-bf77be13333c",
   "metadata": {},
   "outputs": [
    {
     "name": "stdout",
     "output_type": "stream",
     "text": [
      "Original List:\n",
      "[953, 549, 499, 378, 156, 889, 153, 959, 629, 717, 744, 54, 144, 826, 491, 653, 448, 109, 883, 404, 223, 424, 1000, 876, 349, 546, 537, 874, 17, 451, 363, 573, 916, 679, 550, 768, 507, 61, 767, 27, 90, 72, 60, 383, 512, 95, 484, 44, 570, 714, 168, 389, 19, 235, 119, 688, 311, 357, 3, 596, 399, 953, 370, 538, 806, 119, 262, 735, 480, 519, 865, 806, 33, 364, 757, 73, 548, 519, 776, 358, 904, 26, 685, 174, 429, 876, 77, 106, 633, 1, 244, 748, 405, 674, 949, 421, 403, 802, 668, 392]\n"
     ]
    }
   ],
   "source": [
    "random_numbers = [random.randint(1, 1000) for _ in range(100)]\n",
    "print(\"Original List:\")\n",
    "print(random_numbers)"
   ]
  },
  {
   "cell_type": "code",
   "execution_count": 4,
   "id": "ce3996ba-862e-4443-9be3-1d8c55315980",
   "metadata": {},
   "outputs": [],
   "source": [
    " numbers_rdd = sc.parallelize(random_numbers)"
   ]
  },
  {
   "cell_type": "code",
   "execution_count": 5,
   "id": "f2fce427-4a07-42f1-a588-7ee9c1ba79ab",
   "metadata": {},
   "outputs": [],
   "source": [
    "even_numbers_rdd = numbers_rdd.filter(lambda x: x % 2 == 0)"
   ]
  },
  {
   "cell_type": "code",
   "execution_count": 6,
   "id": "0b1267cc-e70f-436a-9cb2-aadd74921837",
   "metadata": {},
   "outputs": [
    {
     "name": "stdout",
     "output_type": "stream",
     "text": [
      "\n",
      "Even Numbers:\n",
      "[378, 156, 744, 54, 144, 826, 448, 404, 424, 1000, 876, 546, 874, 916, 550, 768, 90, 72, 60, 512, 484, 44, 570, 714, 168, 688, 596, 370, 538, 806, 262, 480, 806, 364, 548, 776, 358, 904, 26, 174, 876, 106, 244, 748, 674, 802, 668, 392]\n"
     ]
    }
   ],
   "source": [
    "even_numbers = even_numbers_rdd.collect()\n",
    "print(\"\\nEven Numbers:\")\n",
    "print(even_numbers)"
   ]
  }
 ],
 "metadata": {
  "kernelspec": {
   "display_name": "Python 3 (ipykernel)",
   "language": "python",
   "name": "python3"
  },
  "language_info": {
   "codemirror_mode": {
    "name": "ipython",
    "version": 3
   },
   "file_extension": ".py",
   "mimetype": "text/x-python",
   "name": "python",
   "nbconvert_exporter": "python",
   "pygments_lexer": "ipython3",
   "version": "3.11.9"
  }
 },
 "nbformat": 4,
 "nbformat_minor": 5
}
